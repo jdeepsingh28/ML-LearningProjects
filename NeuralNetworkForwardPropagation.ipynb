{
 "cells": [
  {
   "cell_type": "code",
   "execution_count": 30,
   "id": "e48221de-bcb4-4f73-8d1d-77d261dd4569",
   "metadata": {},
   "outputs": [],
   "source": [
    "import numpy as np"
   ]
  },
  {
   "cell_type": "code",
   "execution_count": 31,
   "id": "faef9856-748b-48cd-8d0d-4fb974cbc175",
   "metadata": {},
   "outputs": [
    {
     "name": "stdout",
     "output_type": "stream",
     "text": [
      "Weights:  [0.95 0.77 0.83 0.41 0.45 0.4 ]\n",
      "Biases:  [1.   0.18 0.96]\n"
     ]
    }
   ],
   "source": [
    "weights = np.around(np.random.uniform(size=6), decimals=2)\n",
    "biases = np.around(np.random.uniform(size=3), decimals=2)\n",
    "print(\"Weights: \", weights)\n",
    "print(\"Biases: \", biases)"
   ]
  },
  {
   "cell_type": "code",
   "execution_count": 32,
   "id": "6b3dc2f5-6ff6-4012-b674-782b02bb413c",
   "metadata": {},
   "outputs": [],
   "source": [
    "#defining structure of network\n",
    "\n",
    "n = 2 #number of inputs\n",
    "num_hidden_layers = 2 #number of hidden layers\n",
    "m = [2, 2] #number of nodes in each hidden layer\n",
    "num_nodes_output = 1 #number of nodes in the output layer"
   ]
  },
  {
   "cell_type": "code",
   "execution_count": 58,
   "id": "a48b74ed-d212-4254-b502-d92bf24175f6",
   "metadata": {},
   "outputs": [],
   "source": [
    "def initialize_network(num_inputs, num_hidden_layers, num_nodes_hidden, num_nodes_output):\n",
    "\n",
    "    num_nodes_previous = n #number of nodes in the previous layer\n",
    "\n",
    "    network = {} #initalize network on an empty dictionary\n",
    "\n",
    "    #loop through each layer and randomly initialize the weights and biases associated with each node\n",
    "    for layer in range(num_hidden_layers + 1):\n",
    "        #determine name of layer\n",
    "        if layer == num_hidden_layers:\n",
    "            layer_name = 'output'\n",
    "            num_nodes = num_nodes_output\n",
    "        else:\n",
    "            layer_name = 'layer_{}'.format(layer+1)\n",
    "            num_nodes = num_nodes_hidden[layer]\n",
    "\n",
    "        #intialize weights and biases associated with each node in the current layer\n",
    "        network[layer_name] = {}\n",
    "        for node in range(num_nodes):\n",
    "            node_name = 'node_{}'.format(node+1)\n",
    "            network[layer_name][node_name] = {\n",
    "                'weights': np.around(np.random.uniform(size=num_nodes_previous), decimals=2),\n",
    "                'bias': np.around(np.random.uniform(size=1), decimals=2),\n",
    "            }\n",
    "\n",
    "        num_nodes_previous = num_nodes\n",
    "    return network"
   ]
  },
  {
   "cell_type": "code",
   "execution_count": 59,
   "id": "73a24d34-c6c9-404f-83a6-2945607afc3c",
   "metadata": {},
   "outputs": [
    {
     "name": "stdout",
     "output_type": "stream",
     "text": [
      "{'layer_1': {'node_1': {'weights': array([0.26, 0.53]), 'bias': array([0.01])}, 'node_2': {'weights': array([0.92, 0.9 ]), 'bias': array([0.03])}, 'node_3': {'weights': array([0.96, 0.14]), 'bias': array([0.28])}}, 'layer_2': {'node_1': {'weights': array([0.61, 0.94, 0.85]), 'bias': array([0.])}, 'node_2': {'weights': array([0.52, 0.55, 0.49]), 'bias': array([0.77])}}, 'layer_3': {'node_1': {'weights': array([0.16, 0.76]), 'bias': array([0.02])}, 'node_2': {'weights': array([0.14, 0.12]), 'bias': array([0.31])}, 'node_3': {'weights': array([0.67, 0.47]), 'bias': array([0.82])}}, 'output': {'node_1': {'weights': array([0.29, 0.73, 0.7 ]), 'bias': array([0.33])}}}\n"
     ]
    }
   ],
   "source": [
    "small_network = initalize_network(5, 3, [3, 2, 3], 1)\n",
    "print(small_network)"
   ]
  },
  {
   "cell_type": "code",
   "execution_count": 60,
   "id": "c75268fc-9c79-4955-a0c7-91144b83a893",
   "metadata": {},
   "outputs": [],
   "source": [
    "def compute_weighted_sum(inputs, weights, bias):\n",
    "    return np.sum(inputs * weights)+bias"
   ]
  },
  {
   "cell_type": "code",
   "execution_count": 61,
   "id": "696a3a59-f660-42f6-bd28-eb63d92faa69",
   "metadata": {},
   "outputs": [
    {
     "name": "stdout",
     "output_type": "stream",
     "text": [
      "The inputs to the network are [0.15 0.74]\n"
     ]
    }
   ],
   "source": [
    "from random import seed\n",
    "\n",
    "np.random.seed(12)\n",
    "inputs = np.around(np.random.uniform(size=2), decimals=2)\n",
    "\n",
    "print('The inputs to the network are {}'.format(inputs))"
   ]
  },
  {
   "cell_type": "code",
   "execution_count": 62,
   "id": "7c2aa9b8-9087-4b27-acb5-f017dc16a808",
   "metadata": {},
   "outputs": [
    {
     "name": "stdout",
     "output_type": "stream",
     "text": [
      "The weighted sum at the first node in the hidden layer is 0.4412\n"
     ]
    }
   ],
   "source": [
    "#Use the compute_weighted_sum function to compute the weighted sum at the first node in the first hidden layer\n",
    "node_weights = small_network['layer_1']['node_1']['weights']\n",
    "node_bias = small_network['layer_1']['node_1']['bias']\n",
    "\n",
    "weighted_sum = compute_weighted_sum(inputs, node_weights, node_bias)\n",
    "print('The weighted sum at the first node in the hidden layer is {}'.format(np.around(weighted_sum[0], decimals=4)))"
   ]
  },
  {
   "cell_type": "code",
   "execution_count": 63,
   "id": "75d9278a-b281-49c8-8692-0f46b0c951c6",
   "metadata": {},
   "outputs": [],
   "source": [
    "def node_activation(weighted_sum):\n",
    "    return 1.0 / (1.0 + np.exp(-1 * weighted_sum))"
   ]
  },
  {
   "cell_type": "code",
   "execution_count": 64,
   "id": "9f94728f-478a-4880-8a67-51702689d4db",
   "metadata": {},
   "outputs": [
    {
     "name": "stdout",
     "output_type": "stream",
     "text": [
      "The output of the first node in the hidden layer is 0.6085\n"
     ]
    }
   ],
   "source": [
    "node_output  = node_activation(compute_weighted_sum(inputs, node_weights, node_bias))\n",
    "print('The output of the first node in the hidden layer is {}'.format(np.around(node_output[0], decimals=4)))"
   ]
  },
  {
   "cell_type": "code",
   "execution_count": 65,
   "id": "feb086ea-685c-4b0c-979b-938f6818f6f7",
   "metadata": {},
   "outputs": [],
   "source": [
    "def forward_propagate(network, inputs):\n",
    "    \n",
    "    layer_inputs = list(inputs) # start with the input layer as the input to the first hidden layer\n",
    "    \n",
    "    for layer in network:\n",
    "        \n",
    "        layer_data = network[layer]\n",
    "        \n",
    "        layer_outputs = [] \n",
    "        for layer_node in layer_data:\n",
    "        \n",
    "            node_data = layer_data[layer_node]\n",
    "        \n",
    "            # compute the weighted sum and the output of each node at the same time \n",
    "            node_output = node_activation(compute_weighted_sum(layer_inputs, node_data['weights'], node_data['bias']))\n",
    "            layer_outputs.append(np.around(node_output[0], decimals=4))\n",
    "            \n",
    "        if layer != 'output':\n",
    "            print('The outputs of the nodes in hidden layer number {} is {}'.format(layer.split('_')[1], layer_outputs))\n",
    "    \n",
    "        layer_inputs = layer_outputs # set the output of this layer to be the input to next layer\n",
    "\n",
    "    network_predictions = layer_outputs\n",
    "    return network_predictions"
   ]
  },
  {
   "cell_type": "code",
   "execution_count": 66,
   "id": "57c83cd7-a33f-4ce2-abaa-4aee14b00b1b",
   "metadata": {},
   "outputs": [
    {
     "name": "stdout",
     "output_type": "stream",
     "text": [
      "The outputs of the nodes in hidden layer number 1 is [0.6085, 0.6972, 0.6289]\n",
      "The outputs of the nodes in hidden layer number 2 is [0.8265, 0.8555]\n",
      "The outputs of the nodes in hidden layer number 3 is [0.6905, 0.6291, 0.8552]\n",
      "The predicted value by the network for the given input is 0.8304\n"
     ]
    }
   ],
   "source": [
    "predictions = forward_propagate(small_network, inputs)\n",
    "print('The predicted value by the network for the given input is {}'.format(np.around(predictions[0], decimals=4)))"
   ]
  },
  {
   "cell_type": "code",
   "execution_count": 67,
   "id": "493d57fe-09ff-40da-9858-477cb30f58cb",
   "metadata": {},
   "outputs": [],
   "source": [
    "my_network = initialize_network(5, 3, [2, 3, 2], 3)"
   ]
  },
  {
   "cell_type": "code",
   "execution_count": 70,
   "id": "2bbf4703-0e9e-41d1-acfd-d309e6c4d7c7",
   "metadata": {},
   "outputs": [],
   "source": [
    "inputs = np.around(np.random.uniform(size=2), decimals=2)"
   ]
  },
  {
   "cell_type": "code",
   "execution_count": 71,
   "id": "3374e283-7227-4f06-9828-94432d321eb0",
   "metadata": {},
   "outputs": [
    {
     "name": "stdout",
     "output_type": "stream",
     "text": [
      "The outputs of the nodes in hidden layer number 1 is [0.5839, 0.6908]\n",
      "The outputs of the nodes in hidden layer number 2 is [0.7185, 0.8648, 0.7128]\n",
      "The outputs of the nodes in hidden layer number 3 is [0.869, 0.6297]\n",
      "The predicted values by the network for the given input are [0.8453, 0.804, 0.8138]\n"
     ]
    }
   ],
   "source": [
    "predictions = forward_propagate(my_network, inputs)\n",
    "print('The predicted values by the network for the given input are {}'.format(predictions))"
   ]
  },
  {
   "cell_type": "code",
   "execution_count": null,
   "id": "4a4a3413-332d-4472-b79c-df6e8e35f76c",
   "metadata": {},
   "outputs": [],
   "source": []
  }
 ],
 "metadata": {
  "environment": {
   "kernel": "python3",
   "name": "tf2-gpu.2-11.m108",
   "type": "gcloud",
   "uri": "gcr.io/deeplearning-platform-release/tf2-gpu.2-11:m108"
  },
  "kernelspec": {
   "display_name": "Python 3 (ipykernel)",
   "language": "python",
   "name": "python3"
  },
  "language_info": {
   "codemirror_mode": {
    "name": "ipython",
    "version": 3
   },
   "file_extension": ".py",
   "mimetype": "text/x-python",
   "name": "python",
   "nbconvert_exporter": "python",
   "pygments_lexer": "ipython3",
   "version": "3.10.10"
  }
 },
 "nbformat": 4,
 "nbformat_minor": 5
}
