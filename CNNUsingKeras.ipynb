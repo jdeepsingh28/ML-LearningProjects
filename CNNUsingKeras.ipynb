{
 "cells": [
  {
   "cell_type": "code",
   "execution_count": 1,
   "id": "77f6ba85-a0f5-41fe-9963-360c840eb13b",
   "metadata": {},
   "outputs": [
    {
     "name": "stderr",
     "output_type": "stream",
     "text": [
      "2023-06-26 18:08:38.703642: I tensorflow/core/platform/cpu_feature_guard.cc:193] This TensorFlow binary is optimized with oneAPI Deep Neural Network Library (oneDNN) to use the following CPU instructions in performance-critical operations:  AVX2 FMA\n",
      "To enable them in other operations, rebuild TensorFlow with the appropriate compiler flags.\n",
      "2023-06-26 18:08:45.090211: W tensorflow/compiler/xla/stream_executor/platform/default/dso_loader.cc:64] Could not load dynamic library 'libnvinfer.so.7'; dlerror: libnvinfer.so.7: cannot open shared object file: No such file or directory; LD_LIBRARY_PATH: /usr/local/cuda/lib64:/usr/local/nccl2/lib:/usr/local/cuda/extras/CUPTI/lib64\n",
      "2023-06-26 18:08:45.091459: W tensorflow/compiler/xla/stream_executor/platform/default/dso_loader.cc:64] Could not load dynamic library 'libnvinfer_plugin.so.7'; dlerror: libnvinfer_plugin.so.7: cannot open shared object file: No such file or directory; LD_LIBRARY_PATH: /usr/local/cuda/lib64:/usr/local/nccl2/lib:/usr/local/cuda/extras/CUPTI/lib64\n",
      "2023-06-26 18:08:45.091475: W tensorflow/compiler/tf2tensorrt/utils/py_utils.cc:38] TF-TRT Warning: Cannot dlopen some TensorRT libraries. If you would like to use Nvidia GPU with TensorRT, please make sure the missing libraries mentioned above are installed properly.\n"
     ]
    }
   ],
   "source": [
    "import keras\n",
    "from keras.models import Sequential\n",
    "from keras.layers import Dense\n",
    "from keras.utils import to_categorical"
   ]
  },
  {
   "cell_type": "code",
   "execution_count": 2,
   "id": "1d76878e-ee1f-49c4-bf7c-b0af8b21b08a",
   "metadata": {},
   "outputs": [],
   "source": [
    "from keras.layers.convolutional import Conv2D # to add convolutional layers\n",
    "from keras.layers.convolutional import MaxPooling2D # to add pooling layers\n",
    "from keras.layers import Flatten # to flatten data for fully connected layers"
   ]
  },
  {
   "cell_type": "code",
   "execution_count": 3,
   "id": "80df438c-5962-405b-a43e-e8533fb1b503",
   "metadata": {},
   "outputs": [],
   "source": [
    "# import data\n",
    "from keras.datasets import mnist\n",
    "\n",
    "# load data\n",
    "(X_train, y_train), (X_test, y_test) = mnist.load_data()\n",
    "\n",
    "X_train = X_train.reshape(X_train.shape[0], 28, 28, 1).astype('float32')\n",
    "X_test = X_test.reshape(X_test.shape[0], 28, 28, 1).astype('float32')"
   ]
  },
  {
   "cell_type": "code",
   "execution_count": 4,
   "id": "fef2bb0a-8be9-47bf-96ea-c3a4e297cd4b",
   "metadata": {},
   "outputs": [],
   "source": [
    "# normalize the pixel values to be between 0 and 1\n",
    "X_train = X_train / 255\n",
    "X_test = X_test / 255"
   ]
  },
  {
   "cell_type": "code",
   "execution_count": 5,
   "id": "d9d9fbc2-7132-48d9-93db-183f43d80bb1",
   "metadata": {},
   "outputs": [],
   "source": [
    "# convert the target variable into binary categories\n",
    "y_train = to_categorical(y_train)\n",
    "y_test = to_categorical(y_test)\n",
    "\n",
    "num_classes = y_test.shape[1]"
   ]
  },
  {
   "cell_type": "code",
   "execution_count": 8,
   "id": "3cca8b82-407d-4692-8fe2-d2c056003e13",
   "metadata": {},
   "outputs": [],
   "source": [
    "def convolutional_model():\n",
    "    model = Sequential()\n",
    "    model.add(Conv2D(16, (5, 5), strides=(1, 1), activation='relu', input_shape=(28, 28, 1)))\n",
    "    model.add(MaxPooling2D(pool_size=(2,2), strides=(2, 2)))\n",
    "    \n",
    "    model.add(Flatten())\n",
    "    model.add(Dense(100, activation='relu'))\n",
    "    model.add(Dense(num_classes, activation='softmax'))\n",
    "    \n",
    "    model.compile(optimizer='adam', loss='categorical_crossentropy', metrics=['accuracy'])\n",
    "    return model"
   ]
  },
  {
   "cell_type": "code",
   "execution_count": 9,
   "id": "88225068-f8f4-42d8-b37d-c4169ec22b64",
   "metadata": {},
   "outputs": [
    {
     "name": "stderr",
     "output_type": "stream",
     "text": [
      "2023-06-26 18:17:09.862663: W tensorflow/compiler/xla/stream_executor/platform/default/dso_loader.cc:64] Could not load dynamic library 'libcuda.so.1'; dlerror: libcuda.so.1: cannot open shared object file: No such file or directory; LD_LIBRARY_PATH: /usr/local/cuda/lib64:/usr/local/nccl2/lib:/usr/local/cuda/extras/CUPTI/lib64\n",
      "2023-06-26 18:17:09.863657: W tensorflow/compiler/xla/stream_executor/cuda/cuda_driver.cc:265] failed call to cuInit: UNKNOWN ERROR (303)\n",
      "2023-06-26 18:17:09.863717: I tensorflow/compiler/xla/stream_executor/cuda/cuda_diagnostics.cc:156] kernel driver does not appear to be running on this host (machine-learning-with-python): /proc/driver/nvidia/version does not exist\n",
      "2023-06-26 18:17:09.865624: I tensorflow/core/platform/cpu_feature_guard.cc:193] This TensorFlow binary is optimized with oneAPI Deep Neural Network Library (oneDNN) to use the following CPU instructions in performance-critical operations:  AVX2 FMA\n",
      "To enable them in other operations, rebuild TensorFlow with the appropriate compiler flags.\n"
     ]
    },
    {
     "name": "stdout",
     "output_type": "stream",
     "text": [
      "Epoch 1/10\n",
      "300/300 - 12s - loss: 0.2908 - accuracy: 0.9184 - val_loss: 0.1056 - val_accuracy: 0.9695 - 12s/epoch - 39ms/step\n",
      "Epoch 2/10\n",
      "300/300 - 10s - loss: 0.0914 - accuracy: 0.9731 - val_loss: 0.0633 - val_accuracy: 0.9819 - 10s/epoch - 35ms/step\n",
      "Epoch 3/10\n",
      "300/300 - 10s - loss: 0.0618 - accuracy: 0.9820 - val_loss: 0.0476 - val_accuracy: 0.9847 - 10s/epoch - 34ms/step\n",
      "Epoch 4/10\n",
      "300/300 - 11s - loss: 0.0478 - accuracy: 0.9856 - val_loss: 0.0490 - val_accuracy: 0.9845 - 11s/epoch - 36ms/step\n",
      "Epoch 5/10\n",
      "300/300 - 11s - loss: 0.0387 - accuracy: 0.9883 - val_loss: 0.0394 - val_accuracy: 0.9873 - 11s/epoch - 36ms/step\n",
      "Epoch 6/10\n",
      "300/300 - 11s - loss: 0.0317 - accuracy: 0.9902 - val_loss: 0.0451 - val_accuracy: 0.9855 - 11s/epoch - 35ms/step\n",
      "Epoch 7/10\n",
      "300/300 - 10s - loss: 0.0270 - accuracy: 0.9914 - val_loss: 0.0345 - val_accuracy: 0.9886 - 10s/epoch - 34ms/step\n",
      "Epoch 8/10\n",
      "300/300 - 10s - loss: 0.0221 - accuracy: 0.9938 - val_loss: 0.0384 - val_accuracy: 0.9884 - 10s/epoch - 34ms/step\n",
      "Epoch 9/10\n",
      "300/300 - 10s - loss: 0.0187 - accuracy: 0.9943 - val_loss: 0.0389 - val_accuracy: 0.9880 - 10s/epoch - 34ms/step\n",
      "Epoch 10/10\n",
      "300/300 - 10s - loss: 0.0160 - accuracy: 0.9953 - val_loss: 0.0316 - val_accuracy: 0.9900 - 10s/epoch - 34ms/step\n",
      "Accuracy: 0.9900000095367432 \n",
      " Error: 0.9999990463256836\n"
     ]
    }
   ],
   "source": [
    "model = convolutional_model()\n",
    "\n",
    "model.fit(X_train, y_train, validation_data=(X_test, y_test), epochs=10, batch_size=200, verbose=2)\n",
    "\n",
    "scores = model.evaluate(X_test, y_test, verbose=0)\n",
    "print(\"Accuracy: {} \\n Error: {}\".format(scores[1], 100-scores[1]*100))"
   ]
  },
  {
   "cell_type": "code",
   "execution_count": null,
   "id": "a6c9eb0d-0dbe-476f-9f0c-079dea73afe5",
   "metadata": {},
   "outputs": [],
   "source": []
  }
 ],
 "metadata": {
  "environment": {
   "kernel": "python3",
   "name": "tf2-gpu.2-11.m108",
   "type": "gcloud",
   "uri": "gcr.io/deeplearning-platform-release/tf2-gpu.2-11:m108"
  },
  "kernelspec": {
   "display_name": "Python 3 (ipykernel)",
   "language": "python",
   "name": "python3"
  },
  "language_info": {
   "codemirror_mode": {
    "name": "ipython",
    "version": 3
   },
   "file_extension": ".py",
   "mimetype": "text/x-python",
   "name": "python",
   "nbconvert_exporter": "python",
   "pygments_lexer": "ipython3",
   "version": "3.10.10"
  }
 },
 "nbformat": 4,
 "nbformat_minor": 5
}
